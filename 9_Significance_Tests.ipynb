{
 "cells": [
  {
   "cell_type": "markdown",
   "metadata": {},
   "source": [
    "## Significance Testing\n",
    "\n",
    "The goal of this notebook is for the student to be able to perform and interpret hypothesis tests using the Scipy and Statsmodels libraries."
   ]
  },
  {
   "cell_type": "code",
   "execution_count": 1,
   "metadata": {},
   "outputs": [],
   "source": [
    "import numpy as np\n",
    "import matplotlib.pyplot as plt\n",
    "\n",
    "%config InlineBackend.figure_format = 'retina'"
   ]
  },
  {
   "cell_type": "markdown",
   "metadata": {},
   "source": [
    "### Hypothesis test for $\\mu$:\n",
    "A bottle-filling machine is set to dispense 12.1 fluid ounces into juice bottles. To ensure that the machine is\n",
    "filling accurately, every hour a worker randomly selects 15 bottles filled by the machine during the past hour\n",
    "and measures the contents. If there is convincing evidence that the mean amount of juice dispensed is different\n",
    "from 12.1 ounces or if there is convincing evidence that the standard deviation is greater than 0.05 ounce, the\n",
    "machine is shut down for recalibration. It can be assumed that the amount of juice that is dispensed into bottles\n",
    "is normally distributed.\n",
    "\n",
    "During one hour, the number of fluid ounces of 15 randomly selected bottles was recorded below.\n",
    "\n",
    "Perform a test of significance to determine whether the mean amount of juice dispensed is different from\n",
    "12.1 fluid ounces."
   ]
  },
  {
   "cell_type": "markdown",
   "metadata": {},
   "source": [
    "#### State the null and alternative hypotheses:\n",
    "\n",
    "$ H_0 :  \\text{State null here} $\n",
    "\n",
    "$ H_a :  \\text{State alternative here} $"
   ]
  },
  {
   "cell_type": "code",
   "execution_count": 2,
   "metadata": {},
   "outputs": [],
   "source": [
    "bottle_sample = [12.33, 11.58, 12.14, 12.13, 11.96, 12.42, 12.0, 11.96, 11.73, 11.94, 11.74, 11.94, 11.66, 11.64, 11.94]"
   ]
  },
  {
   "cell_type": "markdown",
   "metadata": {},
   "source": [
    "Calculate the T test statistic and the p-value needed for the t-test of significance. You can accomplish this however you like, but it is recommended you use one of the following methods:\n",
    "\n",
    "`scipy.stats.ttest_1samp` (to use this method, run `from scipy.stats import ttest_1samp` and call it using `ttest_1samp`)\n",
    "\n",
    "`statsmodels.stats.weightstats.DescrStatsW` (to use this method, run `from statsmodels.stats.weightstats import DescrStatsW` and call it using `DescrStatsW`)\n",
    "\n",
    "Save the T test statistic to the variable `t_stat` and the p-value to the variable `p_value`."
   ]
  },
  {
   "cell_type": "code",
   "execution_count": null,
   "metadata": {},
   "outputs": [],
   "source": []
  },
  {
   "cell_type": "markdown",
   "metadata": {},
   "source": [
    "#### Visualization\n",
    "The following code will plot the t-distribution with the proper p-value shaded in __if__ you correctly calculated the `t_stat` variable. It should look like a bell curve with two red tails. You do not need to change this code."
   ]
  },
  {
   "cell_type": "code",
   "execution_count": null,
   "metadata": {},
   "outputs": [],
   "source": [
    "x = np.arange(-4,4,0.001)\n",
    "y = scipy.stats.t.pdf(x, 14)\n",
    "z1 = x[x < t_stat]\n",
    "z2 = x[x > -t_stat]\n",
    "plt.plot(x, y)\n",
    "plt.fill_between(z1, 0, scipy.stats.t.pdf(z1, 14), color='r')\n",
    "plt.fill_between(z2, 0, scipy.stats.t.pdf(z2, 14), color='r')\n",
    "\n",
    "plt.title('t != H0')\n",
    "plt.show()\n",
    "    "
   ]
  },
  {
   "cell_type": "markdown",
   "metadata": {},
   "source": [
    "What conclusion would you make at each of the following significance levels?\n",
    "\n",
    "* α = 0.05\n",
    "* α = 0.01\n",
    "\n",
    "Be sure to use the context of the question in stating your conclusions!"
   ]
  },
  {
   "cell_type": "markdown",
   "metadata": {},
   "source": [
    "__Answer:__\n"
   ]
  },
  {
   "cell_type": "code",
   "execution_count": null,
   "metadata": {},
   "outputs": [],
   "source": []
  }
 ],
 "metadata": {
  "kernelspec": {
   "display_name": "xbus",
   "language": "python",
   "name": "xbus"
  },
  "language_info": {
   "codemirror_mode": {
    "name": "ipython",
    "version": 3
   },
   "file_extension": ".py",
   "mimetype": "text/x-python",
   "name": "python",
   "nbconvert_exporter": "python",
   "pygments_lexer": "ipython3",
   "version": "3.6.1"
  }
 },
 "nbformat": 4,
 "nbformat_minor": 2
}
