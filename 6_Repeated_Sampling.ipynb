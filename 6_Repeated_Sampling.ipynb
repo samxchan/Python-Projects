{
 "cells": [
  {
   "cell_type": "markdown",
   "metadata": {},
   "source": [
    "## Repeated Sampling\n",
    "\n",
    "Let's simulate the following scenario: \n",
    "\n",
    "We have a population of 10,000 students currently enrolled at Georgetown SCS. We want to estimate the average amount of time they spent on schoolwork during the last week. Doing a survey of the complete population would be too time consuming, so we're going to randomly select 20 students, ask them record their schoolwork times, and calculate the mean of the sample. \n",
    "\n",
    "We will simulate this by creating the population data using the `random` library, and we will repeatedly simulate sampling 20 students and compare the different sample means to see what they can tell us about the population."
   ]
  },
  {
   "cell_type": "markdown",
   "metadata": {},
   "source": [
    "Because we are continuing to build Python skills, now is a good time to discuss coding conventions by looking at PEP8:\n",
    "\n",
    "https://www.python.org/dev/peps/pep-0008/\n",
    "\n",
    "PEP stands for Python Enhancement Proposals, it is a method by which the Python development team proposes new ideas, discusses them, and if agreed upon formalizes them as part of the Python core language. PEP8 is the Style Guide for Python Code, originally proposed in 2001."
   ]
  },
  {
   "cell_type": "code",
   "execution_count": null,
   "metadata": {},
   "outputs": [],
   "source": [
    "import random\n",
    "import pandas as pd\n",
    "import matplotlib.pyplot as plt\n",
    "\n",
    "%config InlineBackend.figure_format = 'retina'"
   ]
  },
  {
   "cell_type": "markdown",
   "metadata": {},
   "source": [
    "Next we will randomly generate our __population__ data. Just like in reality, we will not know the true parameters of our population at the outset. I will try to obfuscate the population data by using binary notation and a list comprehension. I will explain the basics of list comprehensions a little further down.\n",
    "\n",
    "(If you want a challenging exercise, research binary notation and list comprehensions, and see if you can rewrite my code in a more readable format)\n",
    "\n",
    "The population data will be a DataFrame containing student IDs from 1 to 10000, and study time recorded in minutes (rounded to the nearest 10)."
   ]
  },
  {
   "cell_type": "code",
   "execution_count": null,
   "metadata": {},
   "outputs": [],
   "source": [
    "random.seed(1234)\n",
    "students = pd.DataFrame([{'id': id+1, 'study_time': int(round(random.gauss(0b00011011, 0b00001011)))*0b00001010} for id in range(10000)])\n",
    "students.head()"
   ]
  },
  {
   "cell_type": "code",
   "execution_count": null,
   "metadata": {},
   "outputs": [],
   "source": [
    "students.tail()"
   ]
  },
  {
   "cell_type": "markdown",
   "metadata": {},
   "source": [
    "### Single Sample\n",
    "Now we will draw a random sample of 20 students, print their study times, and calculate the sample mean."
   ]
  },
  {
   "cell_type": "code",
   "execution_count": null,
   "metadata": {},
   "outputs": [],
   "source": [
    "sample = students.sample(20, random_state=1234) # random_state is a seed, like above\n",
    "sample"
   ]
  },
  {
   "cell_type": "code",
   "execution_count": null,
   "metadata": {},
   "outputs": [],
   "source": [
    "mean = sample['study_time'].mean()\n",
    "print(f\"Mean study time of 20 students: {mean:.1f}\")"
   ]
  },
  {
   "cell_type": "markdown",
   "metadata": {},
   "source": [
    "In the real world, if you had collected this sample and calculated the statistic, how would you explain what it tells us about the sample, and about the population?"
   ]
  },
  {
   "cell_type": "markdown",
   "metadata": {},
   "source": [
    "#### Answer:\n",
    "For these 20 students, the average time spent studying this past week was 272 minutes.\n",
    "\n",
    "If we had to estimate the average time spent studying in the past week for all 10,000 Georgetown students, our estimate would be 272 minutes.\n",
    "\n",
    "========="
   ]
  },
  {
   "cell_type": "markdown",
   "metadata": {},
   "source": [
    "### 10 Repeated Samples\n",
    "Now let's generate repeated samples using a for loop. In the real world, it would probably be prohibitive to do our sample of 20 people over and over again, but in Python it's easy. To start, I'll take 10 samples."
   ]
  },
  {
   "cell_type": "code",
   "execution_count": null,
   "metadata": {},
   "outputs": [],
   "source": [
    "sample_means = []\n",
    "\n",
    "for _ in range(10):\n",
    "    temp_sample = students.sample(20)\n",
    "    sample_means.append(temp_sample['study_time'].mean())\n",
    "    \n",
    "print(\"Sample Means:\")\n",
    "print(sample_means)"
   ]
  },
  {
   "cell_type": "markdown",
   "metadata": {},
   "source": [
    "The following code does the exact same thing, but using a __list comprehension__ instead of a for loop. Because the pattern of taking an iterable (like a list), performing some operation to each element, and saving the results in a new list is so common, Python has a shorthand for it:"
   ]
  },
  {
   "cell_type": "code",
   "execution_count": null,
   "metadata": {},
   "outputs": [],
   "source": [
    "sample_means = [students.sample(20)['study_time'].mean() for _ in range(10)]\n",
    "print(\"Sample Means:\")\n",
    "print(sample_means)"
   ]
  },
  {
   "cell_type": "markdown",
   "metadata": {},
   "source": [
    "Let's visualize just the means quickly:"
   ]
  },
  {
   "cell_type": "code",
   "execution_count": null,
   "metadata": {},
   "outputs": [],
   "source": [
    "sample_means_df = pd.DataFrame(sample_means)\n",
    "sample_means_df.hist()"
   ]
  },
  {
   "cell_type": "markdown",
   "metadata": {},
   "source": [
    "This gives us a better estimate as to what the true population mean could be. We can add a vertical line at the location of the mean of these 10 values also, as that is going to be our new estimate for the population mean."
   ]
  },
  {
   "cell_type": "code",
   "execution_count": null,
   "metadata": {
    "scrolled": true
   },
   "outputs": [],
   "source": [
    "sample_means_df.hist()\n",
    "plt.axvline(sample_means_df[0].mean(), color='r', linewidth=3)\n",
    "plt.show()"
   ]
  },
  {
   "cell_type": "markdown",
   "metadata": {},
   "source": [
    "Now we have an estimate for the true population study time, but there's still a lot of variability between these samples, so we know our estimate isn't very good. Let's try again, this time with 100 samples."
   ]
  },
  {
   "cell_type": "markdown",
   "metadata": {},
   "source": [
    "### 100 Repeated Samples\n",
    "Keep in mind that as we take 100 samples, each time we're choosing 20 students and finding their mean and standard deviation. This time we won't print the raw data, just the histogram."
   ]
  },
  {
   "cell_type": "code",
   "execution_count": null,
   "metadata": {},
   "outputs": [],
   "source": [
    "sample_means_100 = []\n",
    "\n",
    "for i in range(100):\n",
    "    temp_sample = students.sample(20)\n",
    "    sample_means_100.append(temp_sample['study_time'].mean())\n",
    "    \n",
    "sample_means_100_df = pd.DataFrame(sample_means_100)\n",
    "sample_means_100_df.hist()\n",
    "plt.axvline(sample_means_100_df[0].mean(), color='r', linewidth=3)\n",
    "plt.show()"
   ]
  },
  {
   "cell_type": "markdown",
   "metadata": {},
   "source": [
    "This gives us a much better picture of the likely value of the population mean. But can we get a more accurate estimate with more samples? Indeed, that basic concept in statistics is called the _Law of Large Numbers_. Let's do 10,000 samples next:\n",
    "### 10,000 Repeated Samples"
   ]
  },
  {
   "cell_type": "code",
   "execution_count": null,
   "metadata": {},
   "outputs": [],
   "source": [
    "sample_means_10k = []\n",
    "sample_stds_10k = []\n",
    "\n",
    "for i in range(10000):\n",
    "    temp_sample = students.sample(20)\n",
    "    sample_means_10k.append(temp_sample['study_time'].mean())\n",
    "    sample_stds_10k.append(temp_sample['study_time'].std())\n",
    "    \n",
    "sample_means_10k_df = pd.DataFrame(sample_means_10k)\n",
    "sample_means_10k_df.hist()\n",
    "plt.axvline(sample_means_10k_df[0].mean(), color='r', linewidth=3)\n",
    "plt.show()"
   ]
  },
  {
   "cell_type": "markdown",
   "metadata": {},
   "source": [
    "Looking at this approximation of the __sampling distribution__, we can see it has converged on what is probably a very good estimate of the population mean.\n",
    "\n",
    "You may be wondering if, since we had a population of 10,000 students, and we took 10,000 samples, does that mean we've used all the possible samples?\n",
    "\n",
    "The number of ways you can choose a sample of size _k_ from a population of size _N_ is called the __binomial coefficient__ (this isn't something you have to know for this class, it's just interesting). The mathematical notation is: $\\binom{N}{k}$ \n",
    "\n",
    "It turns out the formula is $\\frac{N!}{k!(n-k)!} = \\frac{10,000!}{20!(9,980)!}$, which is much, much larger than 10,000. So although we have taken enough samples to get a very accurate estimate of the true population mean, we haven't yet calculated the entire true sampling distribution, which includes every single possible sample."
   ]
  },
  {
   "cell_type": "markdown",
   "metadata": {},
   "source": [
    "### Conclusion\n",
    "If you compare the distributions of sample means that we generated for 10 samples, 100 samples, and 10,000 samples, how would you describe what you see?\n",
    "\n",
    "#### Answer:\n",
    "The distribution of the 10 sample means was too small to really describe its shape. We did find the mean of those 10 sample means, which is an OK estimate for the population mean, but it's still pretty rough.\n",
    "\n",
    "When we increased to 100 samples, and then again to 10,000 samples, we saw the shape of the distribution become more symmetric and bell-shaped. We also saw our estimate for the true mean get closer and closer to 270. It is probably a safe guess that the true population mean is 270, and that the __sampling distribution__ is Normally distributed.\n",
    "\n",
    "### Optional:\n",
    "Does this mean that the population is probably Normally distributed as well?"
   ]
  },
  {
   "cell_type": "code",
   "execution_count": null,
   "metadata": {},
   "outputs": [],
   "source": []
  }
 ],
 "metadata": {
  "kernelspec": {
   "display_name": "xbus",
   "language": "python",
   "name": "xbus"
  },
  "language_info": {
   "codemirror_mode": {
    "name": "ipython",
    "version": 3
   },
   "file_extension": ".py",
   "mimetype": "text/x-python",
   "name": "python",
   "nbconvert_exporter": "python",
   "pygments_lexer": "ipython3",
   "version": "3.6.1"
  }
 },
 "nbformat": 4,
 "nbformat_minor": 2
}
