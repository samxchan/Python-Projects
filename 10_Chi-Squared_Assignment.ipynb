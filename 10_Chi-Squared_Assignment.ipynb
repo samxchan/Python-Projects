{
 "cells": [
  {
   "cell_type": "markdown",
   "metadata": {},
   "source": [
    "## Significance Testing for Chi-Squared\n",
    "\n",
    "We will use a Chi-Squared test to determine if there is a statistically significant relationship between two categorical groups of data.\n",
    "\n",
    "A parent advisory board for a university was concerned about the effect of part-time jobs on the academic achievement of students attending the university. To obtain some information, the advisory board surveyed a simple random sample of 200 of the more than 20,000 students attending the university. Each student reported the average number of hours spent working part-time each week and his or her perception of the effect of part-time work on academic achievement. The data in the table below summarize the students’ responses by average number of hours worked per week (less than 11, 11 to 20, more than 20) and perception of the effect of part-time work on academic achievement (positive, no effect, negative)."
   ]
  },
  {
   "cell_type": "code",
   "execution_count": null,
   "metadata": {},
   "outputs": [],
   "source": [
    "import matplotlib.pyplot as plt\n",
    "import numpy as np\n",
    "import pandas as pd\n",
    "from scipy import stats\n",
    "\n",
    "%config InlineBackend.figure_format = 'retina'"
   ]
  },
  {
   "cell_type": "markdown",
   "metadata": {},
   "source": [
    "You will perform a chi-squared test with a significance level of $\\alpha = .01$ to determine if there is an association between the effect of part-time work on academic achievement and the average number of hours per week that students work."
   ]
  },
  {
   "cell_type": "code",
   "execution_count": null,
   "metadata": {},
   "outputs": [],
   "source": [
    "data = {'LessThan11Hours':[21, 58, 18], '11to20Hours':[9, 32, 23], 'MoreThan20Hours':[5, 15, 19]} \n",
    "  \n",
    "# Creates pandas DataFrame. \n",
    "df = pd.DataFrame(data, index =['PositiveEffect', 'NoEffect', 'NegativeEffect']) \n",
    "    \n",
    "df"
   ]
  },
  {
   "cell_type": "markdown",
   "metadata": {},
   "source": [
    "### The Null and Alternate Hypotheses\n",
    "\n",
    "First state your null hypothesis and the alternative hypotheses. Be sure to include context.\n",
    "\n",
    "$ H_0 :  \\text{Null hypothesis here} $\n",
    "\n",
    "$ H_a :  \\text{Alternative hypothesis here} $\n"
   ]
  },
  {
   "cell_type": "markdown",
   "metadata": {},
   "source": [
    "### The Chi-Squared Test for Independence - Using Scipy\n",
    "Scipy has a method that performs all the work for the test. Click [here](https://docs.scipy.org/doc/scipy/reference/generated/scipy.stats.chi2_contingency.html) for the documentation.\n",
    "\n",
    "All we need to do is format the observed values into a two-dimensional NumPy array and plug it into the method."
   ]
  },
  {
   "cell_type": "code",
   "execution_count": null,
   "metadata": {},
   "outputs": [],
   "source": [
    "f_obs = np.array([df.iloc[0][0:3].values,\n",
    "                  df.iloc[1][0:3].values,\n",
    "                  df.iloc[2][0:3].values])\n",
    "print(f_obs)"
   ]
  },
  {
   "cell_type": "code",
   "execution_count": null,
   "metadata": {},
   "outputs": [],
   "source": [
    "chi2_results = stats.chi2_contingency(f_obs)\n",
    "print(chi2_results)"
   ]
  },
  {
   "cell_type": "markdown",
   "metadata": {},
   "source": [
    "Use the SciPy documentation for `chi2_contingency()` to see what these values are. Some do not need to be used. Complete the following code block to store and print out the p-value, degrees of freedom, and $\\chi^2$ test statistic."
   ]
  },
  {
   "cell_type": "code",
   "execution_count": null,
   "metadata": {},
   "outputs": [],
   "source": [
    "p_value = \n",
    "degrees_freedom = \n",
    "chi2_test_statistic = \n",
    "print(f\"The chi-squared value we calculated was {chi2_test_statistic:.3f}, \")\n",
    "print(f\"and with {degrees_freedom} degrees of freedom, the p-value this results in is {p_value:.3f}.\")"
   ]
  },
  {
   "cell_type": "markdown",
   "metadata": {},
   "source": [
    "### Visualization\n",
    "The following code block plots the test statistic and p-value on a Chi-Squared distribution using your stored statistics. If your previous code is working correctly, you do not need to change this cell, just run it as-is."
   ]
  },
  {
   "cell_type": "code",
   "execution_count": null,
   "metadata": {},
   "outputs": [],
   "source": [
    "x = np.arange(0, 20, 0.1)\n",
    "fig,ax = plt.subplots(1,1)\n",
    "ax.plot(x, stats.chi2.pdf(x, degrees_freedom))\n",
    "ax.fill_between(x, 0, stats.chi2.pdf(x, degrees_freedom), where=x > chi2_test_statistic)\n",
    "\n",
    "plt.xlim(0, 20)\n",
    "plt.ylim(0, 0.21)\n",
    "\n",
    "plt.xlabel('Value')\n",
    "plt.ylabel('Frequency')\n",
    "plt.title('Chi-Square Distribution')\n",
    "\n",
    "plt.show()"
   ]
  },
  {
   "cell_type": "markdown",
   "metadata": {},
   "source": [
    "### Conclusion\n",
    "\n",
    "Write a conclusion of the null and alternative hypotheses above, based on the p-value you calculated."
   ]
  },
  {
   "cell_type": "markdown",
   "metadata": {},
   "source": [
    "__Answer:__\n",
    "\n"
   ]
  },
  {
   "cell_type": "code",
   "execution_count": null,
   "metadata": {},
   "outputs": [],
   "source": []
  }
 ],
 "metadata": {
  "kernelspec": {
   "display_name": "xbus",
   "language": "python",
   "name": "xbus"
  },
  "language_info": {
   "codemirror_mode": {
    "name": "ipython",
    "version": 3
   },
   "file_extension": ".py",
   "mimetype": "text/x-python",
   "name": "python",
   "nbconvert_exporter": "python",
   "pygments_lexer": "ipython3",
   "version": "3.6.1"
  }
 },
 "nbformat": 4,
 "nbformat_minor": 2
}
