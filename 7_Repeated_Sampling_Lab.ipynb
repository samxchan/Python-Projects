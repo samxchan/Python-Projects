{
 "cells": [
  {
   "cell_type": "markdown",
   "metadata": {},
   "source": [
    "## Repeated Sampling\n",
    "\n",
    "Now you will simulate the following scenario: \n",
    "\n",
    "You are a researcher at  AgraBiz Corporation, which has a population of 100,000 acres of corn. We want to estimate the average yield of bushels per acre for the last year. Doing a survey of the complete population would be too time consuming, so we're going to randomly select 30 acres, record their yields, and calculate the mean of the sample. \n",
    "\n",
    "We will simulate this by creating the population data using the `random` library, and we will repeatedly simulate sampling 30 acres and compare the different samples to see what they can tell us about the population."
   ]
  },
  {
   "cell_type": "code",
   "execution_count": null,
   "metadata": {},
   "outputs": [],
   "source": [
    "import random\n",
    "import pandas as pd\n",
    "import numpy as np\n",
    "import matplotlib.pyplot as plt\n",
    "\n",
    "%config InlineBackend.figure_format = 'retina'"
   ]
  },
  {
   "cell_type": "markdown",
   "metadata": {},
   "source": [
    "Next we will randomly generate our __population__ data. Just like in reality, we will not know the true parameters of our population at the outset.\n",
    "\n",
    "The population data will be a DataFrame containing acre parcel IDs from 1 to 10000, and yield in bushels."
   ]
  },
  {
   "cell_type": "code",
   "execution_count": null,
   "metadata": {},
   "outputs": [],
   "source": [
    "np.random.seed(1234)\n",
    "acres = pd.DataFrame(list(zip(range(1,100001), np.int_(np.round(np.random.chisquare(df=10, size=100000) * 10)))), columns=['id','yield'])\n",
    "acres.head()"
   ]
  },
  {
   "cell_type": "code",
   "execution_count": null,
   "metadata": {},
   "outputs": [],
   "source": [
    "acres.tail()"
   ]
  },
  {
   "cell_type": "markdown",
   "metadata": {},
   "source": [
    "### Single Sample\n",
    "Select a random sample of 30 acres, print their yields, and calculate the sample mean. (No random seed necessary here)"
   ]
  },
  {
   "cell_type": "code",
   "execution_count": null,
   "metadata": {},
   "outputs": [],
   "source": []
  },
  {
   "cell_type": "markdown",
   "metadata": {},
   "source": [
    "In the real world, if you had collected this sample and calculated the statistic, how would you explain what it tells us about the sample, and about the population?"
   ]
  },
  {
   "cell_type": "markdown",
   "metadata": {},
   "source": [
    "#### Answer:\n",
    "\n",
    "\n",
    "========="
   ]
  },
  {
   "cell_type": "markdown",
   "metadata": {},
   "source": [
    "### 10 Repeated Samples\n",
    "Now generate 10 samples, each with 30 acres, using a for loop. Print the 10 sample means."
   ]
  },
  {
   "cell_type": "code",
   "execution_count": null,
   "metadata": {},
   "outputs": [],
   "source": []
  },
  {
   "cell_type": "markdown",
   "metadata": {},
   "source": [
    "Draw a histogram of the 10 sample means, with a vertical line at the mean (of the 10 sample means)."
   ]
  },
  {
   "cell_type": "code",
   "execution_count": null,
   "metadata": {},
   "outputs": [],
   "source": []
  },
  {
   "cell_type": "markdown",
   "metadata": {},
   "source": [
    "### 100 Repeated Samples\n",
    "Take 100 samples of size 30 and record their sample means (you don't have to print them). Draw a histogram that includes a vertical line for the overall mean.\n",
    "\n",
    "_Optional:_ Use a list comprehension instead of a for loop this time."
   ]
  },
  {
   "cell_type": "code",
   "execution_count": null,
   "metadata": {},
   "outputs": [],
   "source": []
  },
  {
   "cell_type": "markdown",
   "metadata": {},
   "source": [
    "### 10,000 Repeated Samples\n",
    "Take 10,000 samples of size 30 and record their sample means (don't have to print them). Draw a histogram that includes a vertical line for the overall mean."
   ]
  },
  {
   "cell_type": "code",
   "execution_count": null,
   "metadata": {},
   "outputs": [],
   "source": []
  },
  {
   "cell_type": "markdown",
   "metadata": {},
   "source": [
    "### Conclusion\n",
    "If you compare the distributions of sample means that we generated for 10 samples, 100 samples, and 10,000 samples, how would you describe what you see?\n",
    "\n",
    "#### Answer:\n",
    "\n",
    "\n",
    "### Optional:\n",
    "What do you know about the shape of the population distribution?"
   ]
  },
  {
   "cell_type": "code",
   "execution_count": null,
   "metadata": {},
   "outputs": [],
   "source": []
  }
 ],
 "metadata": {
  "kernelspec": {
   "display_name": "xbus",
   "language": "python",
   "name": "xbus"
  },
  "language_info": {
   "codemirror_mode": {
    "name": "ipython",
    "version": 3
   },
   "file_extension": ".py",
   "mimetype": "text/x-python",
   "name": "python",
   "nbconvert_exporter": "python",
   "pygments_lexer": "ipython3",
   "version": "3.6.1"
  }
 },
 "nbformat": 4,
 "nbformat_minor": 2
}
